{
 "cells": [
  {
   "cell_type": "code",
   "execution_count": 2,
   "metadata": {},
   "outputs": [],
   "source": [
    "import numpy as np\n",
    "import pandas as pd\n",
    "import matplotlib.pyplot as plt\n",
    "import yfinance as yf"
   ]
  },
  {
   "cell_type": "code",
   "execution_count": 3,
   "metadata": {},
   "outputs": [
    {
     "name": "stderr",
     "output_type": "stream",
     "text": [
      "[*********************100%%**********************]  1 of 1 completed\n"
     ]
    }
   ],
   "source": [
    "start = '2012-01-01'\n",
    "end = '2023-12-21'\n",
    "stock = 'TSLA'\n",
    "\n",
    "data = yf.download(stock, start, end)"
   ]
  },
  {
   "cell_type": "code",
   "execution_count": 4,
   "metadata": {},
   "outputs": [
    {
     "data": {
      "text/html": [
       "<div>\n",
       "<style scoped>\n",
       "    .dataframe tbody tr th:only-of-type {\n",
       "        vertical-align: middle;\n",
       "    }\n",
       "\n",
       "    .dataframe tbody tr th {\n",
       "        vertical-align: top;\n",
       "    }\n",
       "\n",
       "    .dataframe thead th {\n",
       "        text-align: right;\n",
       "    }\n",
       "</style>\n",
       "<table border=\"1\" class=\"dataframe\">\n",
       "  <thead>\n",
       "    <tr style=\"text-align: right;\">\n",
       "      <th></th>\n",
       "      <th>Open</th>\n",
       "      <th>High</th>\n",
       "      <th>Low</th>\n",
       "      <th>Close</th>\n",
       "      <th>Adj Close</th>\n",
       "      <th>Volume</th>\n",
       "    </tr>\n",
       "    <tr>\n",
       "      <th>Date</th>\n",
       "      <th></th>\n",
       "      <th></th>\n",
       "      <th></th>\n",
       "      <th></th>\n",
       "      <th></th>\n",
       "      <th></th>\n",
       "    </tr>\n",
       "  </thead>\n",
       "  <tbody>\n",
       "    <tr>\n",
       "      <th>2012-01-03</th>\n",
       "      <td>1.929333</td>\n",
       "      <td>1.966667</td>\n",
       "      <td>1.843333</td>\n",
       "      <td>1.872000</td>\n",
       "      <td>1.872000</td>\n",
       "      <td>13921500</td>\n",
       "    </tr>\n",
       "    <tr>\n",
       "      <th>2012-01-04</th>\n",
       "      <td>1.880667</td>\n",
       "      <td>1.911333</td>\n",
       "      <td>1.833333</td>\n",
       "      <td>1.847333</td>\n",
       "      <td>1.847333</td>\n",
       "      <td>9451500</td>\n",
       "    </tr>\n",
       "    <tr>\n",
       "      <th>2012-01-05</th>\n",
       "      <td>1.850667</td>\n",
       "      <td>1.862000</td>\n",
       "      <td>1.790000</td>\n",
       "      <td>1.808000</td>\n",
       "      <td>1.808000</td>\n",
       "      <td>15082500</td>\n",
       "    </tr>\n",
       "    <tr>\n",
       "      <th>2012-01-06</th>\n",
       "      <td>1.813333</td>\n",
       "      <td>1.852667</td>\n",
       "      <td>1.760667</td>\n",
       "      <td>1.794000</td>\n",
       "      <td>1.794000</td>\n",
       "      <td>14794500</td>\n",
       "    </tr>\n",
       "    <tr>\n",
       "      <th>2012-01-09</th>\n",
       "      <td>1.800000</td>\n",
       "      <td>1.832667</td>\n",
       "      <td>1.741333</td>\n",
       "      <td>1.816667</td>\n",
       "      <td>1.816667</td>\n",
       "      <td>13455000</td>\n",
       "    </tr>\n",
       "    <tr>\n",
       "      <th>...</th>\n",
       "      <td>...</td>\n",
       "      <td>...</td>\n",
       "      <td>...</td>\n",
       "      <td>...</td>\n",
       "      <td>...</td>\n",
       "      <td>...</td>\n",
       "    </tr>\n",
       "    <tr>\n",
       "      <th>2023-12-14</th>\n",
       "      <td>241.220001</td>\n",
       "      <td>253.880005</td>\n",
       "      <td>240.789993</td>\n",
       "      <td>251.050003</td>\n",
       "      <td>251.050003</td>\n",
       "      <td>160829200</td>\n",
       "    </tr>\n",
       "    <tr>\n",
       "      <th>2023-12-15</th>\n",
       "      <td>251.210007</td>\n",
       "      <td>254.130005</td>\n",
       "      <td>248.300003</td>\n",
       "      <td>253.500000</td>\n",
       "      <td>253.500000</td>\n",
       "      <td>135720800</td>\n",
       "    </tr>\n",
       "    <tr>\n",
       "      <th>2023-12-18</th>\n",
       "      <td>253.779999</td>\n",
       "      <td>258.739990</td>\n",
       "      <td>251.360001</td>\n",
       "      <td>252.080002</td>\n",
       "      <td>252.080002</td>\n",
       "      <td>116416500</td>\n",
       "    </tr>\n",
       "    <tr>\n",
       "      <th>2023-12-19</th>\n",
       "      <td>253.479996</td>\n",
       "      <td>258.339996</td>\n",
       "      <td>253.009995</td>\n",
       "      <td>257.220001</td>\n",
       "      <td>257.220001</td>\n",
       "      <td>106737400</td>\n",
       "    </tr>\n",
       "    <tr>\n",
       "      <th>2023-12-20</th>\n",
       "      <td>256.410004</td>\n",
       "      <td>259.839996</td>\n",
       "      <td>247.000000</td>\n",
       "      <td>247.139999</td>\n",
       "      <td>247.139999</td>\n",
       "      <td>125097000</td>\n",
       "    </tr>\n",
       "  </tbody>\n",
       "</table>\n",
       "<p>3012 rows × 6 columns</p>\n",
       "</div>"
      ],
      "text/plain": [
       "                  Open        High         Low       Close   Adj Close  \\\n",
       "Date                                                                     \n",
       "2012-01-03    1.929333    1.966667    1.843333    1.872000    1.872000   \n",
       "2012-01-04    1.880667    1.911333    1.833333    1.847333    1.847333   \n",
       "2012-01-05    1.850667    1.862000    1.790000    1.808000    1.808000   \n",
       "2012-01-06    1.813333    1.852667    1.760667    1.794000    1.794000   \n",
       "2012-01-09    1.800000    1.832667    1.741333    1.816667    1.816667   \n",
       "...                ...         ...         ...         ...         ...   \n",
       "2023-12-14  241.220001  253.880005  240.789993  251.050003  251.050003   \n",
       "2023-12-15  251.210007  254.130005  248.300003  253.500000  253.500000   \n",
       "2023-12-18  253.779999  258.739990  251.360001  252.080002  252.080002   \n",
       "2023-12-19  253.479996  258.339996  253.009995  257.220001  257.220001   \n",
       "2023-12-20  256.410004  259.839996  247.000000  247.139999  247.139999   \n",
       "\n",
       "               Volume  \n",
       "Date                   \n",
       "2012-01-03   13921500  \n",
       "2012-01-04    9451500  \n",
       "2012-01-05   15082500  \n",
       "2012-01-06   14794500  \n",
       "2012-01-09   13455000  \n",
       "...               ...  \n",
       "2023-12-14  160829200  \n",
       "2023-12-15  135720800  \n",
       "2023-12-18  116416500  \n",
       "2023-12-19  106737400  \n",
       "2023-12-20  125097000  \n",
       "\n",
       "[3012 rows x 6 columns]"
      ]
     },
     "execution_count": 4,
     "metadata": {},
     "output_type": "execute_result"
    }
   ],
   "source": [
    "data"
   ]
  },
  {
   "cell_type": "code",
   "execution_count": 5,
   "metadata": {},
   "outputs": [
    {
     "data": {
      "text/html": [
       "<div>\n",
       "<style scoped>\n",
       "    .dataframe tbody tr th:only-of-type {\n",
       "        vertical-align: middle;\n",
       "    }\n",
       "\n",
       "    .dataframe tbody tr th {\n",
       "        vertical-align: top;\n",
       "    }\n",
       "\n",
       "    .dataframe thead th {\n",
       "        text-align: right;\n",
       "    }\n",
       "</style>\n",
       "<table border=\"1\" class=\"dataframe\">\n",
       "  <thead>\n",
       "    <tr style=\"text-align: right;\">\n",
       "      <th></th>\n",
       "      <th>Date</th>\n",
       "      <th>Open</th>\n",
       "      <th>High</th>\n",
       "      <th>Low</th>\n",
       "      <th>Close</th>\n",
       "      <th>Adj Close</th>\n",
       "      <th>Volume</th>\n",
       "    </tr>\n",
       "  </thead>\n",
       "  <tbody>\n",
       "    <tr>\n",
       "      <th>0</th>\n",
       "      <td>2012-01-03</td>\n",
       "      <td>1.929333</td>\n",
       "      <td>1.966667</td>\n",
       "      <td>1.843333</td>\n",
       "      <td>1.872000</td>\n",
       "      <td>1.872000</td>\n",
       "      <td>13921500</td>\n",
       "    </tr>\n",
       "    <tr>\n",
       "      <th>1</th>\n",
       "      <td>2012-01-04</td>\n",
       "      <td>1.880667</td>\n",
       "      <td>1.911333</td>\n",
       "      <td>1.833333</td>\n",
       "      <td>1.847333</td>\n",
       "      <td>1.847333</td>\n",
       "      <td>9451500</td>\n",
       "    </tr>\n",
       "    <tr>\n",
       "      <th>2</th>\n",
       "      <td>2012-01-05</td>\n",
       "      <td>1.850667</td>\n",
       "      <td>1.862000</td>\n",
       "      <td>1.790000</td>\n",
       "      <td>1.808000</td>\n",
       "      <td>1.808000</td>\n",
       "      <td>15082500</td>\n",
       "    </tr>\n",
       "    <tr>\n",
       "      <th>3</th>\n",
       "      <td>2012-01-06</td>\n",
       "      <td>1.813333</td>\n",
       "      <td>1.852667</td>\n",
       "      <td>1.760667</td>\n",
       "      <td>1.794000</td>\n",
       "      <td>1.794000</td>\n",
       "      <td>14794500</td>\n",
       "    </tr>\n",
       "    <tr>\n",
       "      <th>4</th>\n",
       "      <td>2012-01-09</td>\n",
       "      <td>1.800000</td>\n",
       "      <td>1.832667</td>\n",
       "      <td>1.741333</td>\n",
       "      <td>1.816667</td>\n",
       "      <td>1.816667</td>\n",
       "      <td>13455000</td>\n",
       "    </tr>\n",
       "    <tr>\n",
       "      <th>...</th>\n",
       "      <td>...</td>\n",
       "      <td>...</td>\n",
       "      <td>...</td>\n",
       "      <td>...</td>\n",
       "      <td>...</td>\n",
       "      <td>...</td>\n",
       "      <td>...</td>\n",
       "    </tr>\n",
       "    <tr>\n",
       "      <th>3007</th>\n",
       "      <td>2023-12-14</td>\n",
       "      <td>241.220001</td>\n",
       "      <td>253.880005</td>\n",
       "      <td>240.789993</td>\n",
       "      <td>251.050003</td>\n",
       "      <td>251.050003</td>\n",
       "      <td>160829200</td>\n",
       "    </tr>\n",
       "    <tr>\n",
       "      <th>3008</th>\n",
       "      <td>2023-12-15</td>\n",
       "      <td>251.210007</td>\n",
       "      <td>254.130005</td>\n",
       "      <td>248.300003</td>\n",
       "      <td>253.500000</td>\n",
       "      <td>253.500000</td>\n",
       "      <td>135720800</td>\n",
       "    </tr>\n",
       "    <tr>\n",
       "      <th>3009</th>\n",
       "      <td>2023-12-18</td>\n",
       "      <td>253.779999</td>\n",
       "      <td>258.739990</td>\n",
       "      <td>251.360001</td>\n",
       "      <td>252.080002</td>\n",
       "      <td>252.080002</td>\n",
       "      <td>116416500</td>\n",
       "    </tr>\n",
       "    <tr>\n",
       "      <th>3010</th>\n",
       "      <td>2023-12-19</td>\n",
       "      <td>253.479996</td>\n",
       "      <td>258.339996</td>\n",
       "      <td>253.009995</td>\n",
       "      <td>257.220001</td>\n",
       "      <td>257.220001</td>\n",
       "      <td>106737400</td>\n",
       "    </tr>\n",
       "    <tr>\n",
       "      <th>3011</th>\n",
       "      <td>2023-12-20</td>\n",
       "      <td>256.410004</td>\n",
       "      <td>259.839996</td>\n",
       "      <td>247.000000</td>\n",
       "      <td>247.139999</td>\n",
       "      <td>247.139999</td>\n",
       "      <td>125097000</td>\n",
       "    </tr>\n",
       "  </tbody>\n",
       "</table>\n",
       "<p>3012 rows × 7 columns</p>\n",
       "</div>"
      ],
      "text/plain": [
       "           Date        Open        High         Low       Close   Adj Close  \\\n",
       "0    2012-01-03    1.929333    1.966667    1.843333    1.872000    1.872000   \n",
       "1    2012-01-04    1.880667    1.911333    1.833333    1.847333    1.847333   \n",
       "2    2012-01-05    1.850667    1.862000    1.790000    1.808000    1.808000   \n",
       "3    2012-01-06    1.813333    1.852667    1.760667    1.794000    1.794000   \n",
       "4    2012-01-09    1.800000    1.832667    1.741333    1.816667    1.816667   \n",
       "...         ...         ...         ...         ...         ...         ...   \n",
       "3007 2023-12-14  241.220001  253.880005  240.789993  251.050003  251.050003   \n",
       "3008 2023-12-15  251.210007  254.130005  248.300003  253.500000  253.500000   \n",
       "3009 2023-12-18  253.779999  258.739990  251.360001  252.080002  252.080002   \n",
       "3010 2023-12-19  253.479996  258.339996  253.009995  257.220001  257.220001   \n",
       "3011 2023-12-20  256.410004  259.839996  247.000000  247.139999  247.139999   \n",
       "\n",
       "         Volume  \n",
       "0      13921500  \n",
       "1       9451500  \n",
       "2      15082500  \n",
       "3      14794500  \n",
       "4      13455000  \n",
       "...         ...  \n",
       "3007  160829200  \n",
       "3008  135720800  \n",
       "3009  116416500  \n",
       "3010  106737400  \n",
       "3011  125097000  \n",
       "\n",
       "[3012 rows x 7 columns]"
      ]
     },
     "execution_count": 5,
     "metadata": {},
     "output_type": "execute_result"
    }
   ],
   "source": [
    "data.reset_index(inplace=True)\n",
    "data"
   ]
  },
  {
   "cell_type": "code",
   "execution_count": 6,
   "metadata": {},
   "outputs": [],
   "source": [
    "# Moving average of 100 days at the close price\n",
    "ma_100days = data.Close.rolling(100).mean()"
   ]
  },
  {
   "cell_type": "code",
   "execution_count": 7,
   "metadata": {},
   "outputs": [
    {
     "data": {
      "image/png": "[encoded data removed]",
      "text/plain": [
       "<Figure size 576x432 with 1 Axes>"
      ]
     },
     "metadata": {
      "needs_background": "light"
     },
     "output_type": "display_data"
    }
   ],
   "source": [
    "# Plotting it\n",
    "plt.figure(figsize=(8,6))\n",
    "plt.plot(ma_100days, 'r') \n",
    "plt.plot(data.Close, 'g')\n",
    "plt.show()"
   ]
  },
  {
   "cell_type": "code",
   "execution_count": 8,
   "metadata": {},
   "outputs": [
    {
     "data": {
      "image/png": "[encoded data removed]",
      "text/plain": [
       "<Figure size 576x432 with 1 Axes>"
      ]
     },
     "metadata": {
      "needs_background": "light"
     },
     "output_type": "display_data"
    }
   ],
   "source": [
    "# Moving avg of 200 days\n",
    "ma_200days = data.Close.rolling(200).mean()\n",
    "\n",
    "# Plotting it\n",
    "plt.figure(figsize=(8,6))\n",
    "plt.plot(ma_100days, 'r') \n",
    "plt.plot(ma_200days,'b')\n",
    "plt.plot(data.Close, 'g')\n",
    "plt.show()"
   ]
  },
  {
   "cell_type": "code",
   "execution_count": 9,
   "metadata": {},
   "outputs": [
    {
     "data": {
      "text/plain": [
       "Date         0\n",
       "Open         0\n",
       "High         0\n",
       "Low          0\n",
       "Close        0\n",
       "Adj Close    0\n",
       "Volume       0\n",
       "dtype: int64"
      ]
     },
     "execution_count": 9,
     "metadata": {},
     "output_type": "execute_result"
    }
   ],
   "source": [
    "# Data cleanup\n",
    "data.dropna(inplace=True)\n",
    "data.isnull().sum()"
   ]
  },
  {
   "cell_type": "code",
   "execution_count": 10,
   "metadata": {},
   "outputs": [
    {
     "data": {
      "text/plain": [
       "(2409, 1)"
      ]
     },
     "execution_count": 10,
     "metadata": {},
     "output_type": "execute_result"
    }
   ],
   "source": [
    "# Splitting the data for train and test\n",
    "data_train = pd.DataFrame(data.Close[0:int(len(data)*0.8)])\n",
    "data_test = pd.DataFrame(data.Close[int(len(data)*0.8): len(data)])\n",
    "data_train.shape"
   ]
  },
  {
   "cell_type": "code",
   "execution_count": 11,
   "metadata": {},
   "outputs": [
    {
     "data": {
      "text/plain": [
       "(603, 1)"
      ]
     },
     "execution_count": 11,
     "metadata": {},
     "output_type": "execute_result"
    }
   ],
   "source": [
    "data_test.shape"
   ]
  },
  {
   "cell_type": "code",
   "execution_count": 12,
   "metadata": {},
   "outputs": [],
   "source": [
    "# Scaling the stock price\n",
    "from sklearn.preprocessing import MinMaxScaler\n",
    "scaler = MinMaxScaler(feature_range=(0,1))"
   ]
  },
  {
   "cell_type": "code",
   "execution_count": 13,
   "metadata": {},
   "outputs": [],
   "source": [
    "data_train_scale = scaler.fit_transform(data_train)"
   ]
  },
  {
   "cell_type": "code",
   "execution_count": 14,
   "metadata": {},
   "outputs": [],
   "source": [
    "# To predict nth day stock price, we need the data for the past 100 days\n",
    "x = []\n",
    "y = []\n",
    "\n",
    "for i in range(100, data_train_scale.shape[0]):\n",
    "    x.append(data_train_scale[i-100:i])\n",
    "    y.append(data_train_scale[i,0])"
   ]
  },
  {
   "cell_type": "code",
   "execution_count": 15,
   "metadata": {},
   "outputs": [],
   "source": [
    "# Convering x, y to numpy arrays\n",
    "x, y = np.array(x), np.array(y)"
   ]
  },
  {
   "cell_type": "code",
   "execution_count": 16,
   "metadata": {},
   "outputs": [],
   "source": [
    "# import libraries\n",
    "from keras.layers import Dense, Dropout, LSTM\n",
    "from keras.models import Sequential"
   ]
  },
  {
   "cell_type": "code",
   "execution_count": null,
   "metadata": {},
   "outputs": [],
   "source": [
    "# Creating a neural network with 4 layers\n",
    "\n",
    "model = Sequential()\n",
    "model.add(LSTM(units=50, activation='relu', return_sequences=True),\n",
    "          input_shape=(x.shape[1],1))\n",
    "model.add(Dropout(0.2))\n",
    "\n",
    "model.add(LSTM(units=60, activation='relu', return_sequences=True))\n",
    "model.add(Dropout(0.3))\n",
    "\n",
    "model.add(LSTM(units=80, activation='relu', return_sequences=True))\n",
    "model.add(Dropout(0.4))\n",
    "\n",
    "model.add(LSTM(units=80, activation='relu'))\n",
    "model.add(Dropout(0.5))\n",
    "\n",
    "model.add(Dense(units =1))\n",
    "\n",
    "model.compile(optimizer='adam', loss='mean_squared_error')\n",
    "\n",
    "model.fit(x, y, epochs=50, batch_size=32, verbose=1)"
   ]
  },
  {
   "cell_type": "code",
   "execution_count": null,
   "metadata": {},
   "outputs": [],
   "source": [
    "# Summarizing the model\n",
    "model.summary()"
   ]
  },
  {
   "cell_type": "code",
   "execution_count": null,
   "metadata": {},
   "outputs": [],
   "source": [
    "# Taking last 100 days data as input\n",
    "past_100days = data_train.tail(100)\n",
    "\n",
    "# Concatenating it to test data\n",
    "New_testdata = pd.concat([past_100days, data_test], ignore_index=True)\n",
    "\n",
    "#Checking test data\n",
    "New_testdata"
   ]
  },
  {
   "cell_type": "code",
   "execution_count": null,
   "metadata": {},
   "outputs": [],
   "source": [
    "# Scaling and Fitting test data\n",
    "data_test_scale = scaler.fit_transform(New_testdata)"
   ]
  },
  {
   "cell_type": "code",
   "execution_count": null,
   "metadata": {},
   "outputs": [],
   "source": [
    "# To predict nth day stock price, we need the test data for the past 100 days\n",
    "x = []\n",
    "y = []\n",
    "\n",
    "for i in range(100, New_testdata.shape[0]):\n",
    "    x.append(New_testdata[i-100:i])\n",
    "    y.append(New_testdata[i,0])\n",
    "\n",
    "# Convering x, y to numpy arrays\n",
    "x, y = np.array(x), np.array(y)"
   ]
  },
  {
   "cell_type": "code",
   "execution_count": null,
   "metadata": {},
   "outputs": [],
   "source": [
    "Y_pred = model.predict(x)"
   ]
  },
  {
   "cell_type": "code",
   "execution_count": null,
   "metadata": {},
   "outputs": [],
   "source": [
    "# To get the actual stock price\n",
    "scale = 1/scaler.scale_\n",
    "\n",
    "Y_pred = Y_pred * scale\n",
    "\n",
    "y = y * scale"
   ]
  },
  {
   "cell_type": "code",
   "execution_count": null,
   "metadata": {},
   "outputs": [],
   "source": [
    "# Plotting predicted vs actual price\n",
    "\n",
    "plt.figure(figsize=(10,8))\n",
    "plt.plot(Y_pred, 'r', label = 'Predicted Price')\n",
    "plt.plot(y, 'g', label = 'Original Price')\n",
    "plt.xlabel('Time')\n",
    "plt.ylabel('Price')\n",
    "plt.legend()\n",
    "plt.show()"
   ]
  },
  {
   "cell_type": "code",
   "execution_count": null,
   "metadata": {},
   "outputs": [],
   "source": [
    "# Saving the model\n",
    "model.save('Stock Market Prediction.keras')"
   ]
  }
 ],
 "metadata": {
  "kernelspec": {
   "display_name": "Python 3",
   "language": "python",
   "name": "python3"
  },
  "language_info": {
   "codemirror_mode": {
    "name": "ipython",
    "version": 3
   },
   "file_extension": ".py",
   "mimetype": "text/x-python",
   "name": "python",
   "nbconvert_exporter": "python",
   "pygments_lexer": "ipython3",
   "version": "3.8.8"
  }
 },
 "nbformat": 4,
 "nbformat_minor": 2
}
